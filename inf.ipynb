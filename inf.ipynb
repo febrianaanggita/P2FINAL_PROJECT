{
 "cells": [
  {
   "cell_type": "markdown",
   "id": "e0fe6419",
   "metadata": {},
   "source": [
    "# Librari\n"
   ]
  },
  {
   "cell_type": "code",
   "execution_count": 11,
   "id": "0c7ca25d",
   "metadata": {},
   "outputs": [],
   "source": [
    "# Import Library\n",
    "import pandas as pd\n",
    "import numpy as np\n",
    "import pickle\n",
    "from sklearn.compose import ColumnTransformer"
   ]
  },
  {
   "cell_type": "markdown",
   "id": "fed0c00f",
   "metadata": {},
   "source": [
    "# Load Model"
   ]
  },
  {
   "cell_type": "code",
   "execution_count": 12,
   "id": "0383728e",
   "metadata": {},
   "outputs": [],
   "source": [
    "# Muat kembali model dari file\n",
    "with open(\"model_akhir.pkl\", \"rb\") as file:\n",
    "    model_rf = pickle.load(file)"
   ]
  },
  {
   "cell_type": "code",
   "execution_count": null,
   "id": "a4ee5198",
   "metadata": {},
   "outputs": [
    {
     "data": {
      "text/html": [
       "<div>\n",
       "<style scoped>\n",
       "    .dataframe tbody tr th:only-of-type {\n",
       "        vertical-align: middle;\n",
       "    }\n",
       "\n",
       "    .dataframe tbody tr th {\n",
       "        vertical-align: top;\n",
       "    }\n",
       "\n",
       "    .dataframe thead th {\n",
       "        text-align: right;\n",
       "    }\n",
       "</style>\n",
       "<table border=\"1\" class=\"dataframe\">\n",
       "  <thead>\n",
       "    <tr style=\"text-align: right;\">\n",
       "      <th></th>\n",
       "      <th>transport_type</th>\n",
       "      <th>route_id</th>\n",
       "      <th>origin_station</th>\n",
       "      <th>destination_station</th>\n",
       "      <th>scheduled_departure</th>\n",
       "      <th>scheduled_arrival</th>\n",
       "      <th>actual_departure_delay_min</th>\n",
       "      <th>weather_condition</th>\n",
       "      <th>temperature_C</th>\n",
       "      <th>humidity_percent</th>\n",
       "      <th>...</th>\n",
       "      <th>precipitation_mm</th>\n",
       "      <th>event_type</th>\n",
       "      <th>event_attendance_est</th>\n",
       "      <th>traffic_congestion_index</th>\n",
       "      <th>holiday</th>\n",
       "      <th>peak_hour</th>\n",
       "      <th>weekday</th>\n",
       "      <th>season</th>\n",
       "      <th>datetime</th>\n",
       "      <th>scheduled_duration_min</th>\n",
       "    </tr>\n",
       "  </thead>\n",
       "  <tbody>\n",
       "    <tr>\n",
       "      <th>0</th>\n",
       "      <td>Bus</td>\n",
       "      <td>Route_10</td>\n",
       "      <td>Station_45</td>\n",
       "      <td>Station_50</td>\n",
       "      <td>2025-10-08 08:30:00</td>\n",
       "      <td>2025-10-08 09:15:00</td>\n",
       "      <td>5</td>\n",
       "      <td>Rain</td>\n",
       "      <td>27.4</td>\n",
       "      <td>78</td>\n",
       "      <td>...</td>\n",
       "      <td>1.2</td>\n",
       "      <td>Sports</td>\n",
       "      <td>300</td>\n",
       "      <td>75</td>\n",
       "      <td>0</td>\n",
       "      <td>1</td>\n",
       "      <td>1</td>\n",
       "      <td>Wet</td>\n",
       "      <td>2025-10-08 08:00:00</td>\n",
       "      <td>45</td>\n",
       "    </tr>\n",
       "  </tbody>\n",
       "</table>\n",
       "<p>1 rows × 21 columns</p>\n",
       "</div>"
      ],
      "text/plain": [
       "  transport_type  route_id origin_station destination_station  \\\n",
       "0            Bus  Route_10     Station_45          Station_50   \n",
       "\n",
       "  scheduled_departure   scheduled_arrival  actual_departure_delay_min  \\\n",
       "0 2025-10-08 08:30:00 2025-10-08 09:15:00                           5   \n",
       "\n",
       "  weather_condition  temperature_C  humidity_percent  ...  precipitation_mm  \\\n",
       "0              Rain           27.4                78  ...               1.2   \n",
       "\n",
       "   event_type event_attendance_est  traffic_congestion_index  holiday  \\\n",
       "0      Sports                  300                        75        0   \n",
       "\n",
       "  peak_hour weekday season            datetime scheduled_duration_min  \n",
       "0         1       1    Wet 2025-10-08 08:00:00                     45  \n",
       "\n",
       "[1 rows x 21 columns]"
      ]
     },
     "execution_count": 14,
     "metadata": {},
     "output_type": "execute_result"
    }
   ],
   "source": [
    "data_baru = pd.DataFrame([{\n",
    "    'transport_type': 'Bus',\n",
    "    'route_id': 'Route_10',\n",
    "    'origin_station': 'Station_45',\n",
    "    'destination_station': 'Station_50',\n",
    "    'scheduled_departure': pd.Timestamp('2025-10-08 08:30:00'),\n",
    "    'scheduled_arrival': pd.Timestamp('2025-10-08 09:15:00'),\n",
    "    'actual_departure_delay_min': 5,\n",
    "    'weather_condition': 'Rain',\n",
    "    'temperature_C': 27.4,\n",
    "    'humidity_percent': 78,\n",
    "    'wind_speed_kmh': 12,\n",
    "    'precipitation_mm': 1.2,\n",
    "    'event_type': 'Sports',\n",
    "    'event_attendance_est': 300,\n",
    "    'traffic_congestion_index': 75,\n",
    "    'holiday': 0,\n",
    "    'peak_hour': 1,\n",
    "    'weekday': 1,\n",
    "    'season': 'Wet',\n",
    "    'datetime': pd.Timestamp('2025-10-08 08:00:00'),\n",
    "    'scheduled_duration_min': 45\n",
    "}])\n",
    "\n",
    "kategori = [\"holiday\", \"peak_hour\", \"weekday\"]\n",
    "data_baru[kategori] = data_baru[kategori].astype(\"category\")\n",
    "data_baru.head()"
   ]
  },
  {
   "cell_type": "code",
   "execution_count": 16,
   "id": "7c5af340",
   "metadata": {},
   "outputs": [
    {
     "name": "stdout",
     "output_type": "stream",
     "text": [
      "<class 'pandas.core.frame.DataFrame'>\n",
      "RangeIndex: 1 entries, 0 to 0\n",
      "Data columns (total 21 columns):\n",
      " #   Column                      Non-Null Count  Dtype         \n",
      "---  ------                      --------------  -----         \n",
      " 0   transport_type              1 non-null      object        \n",
      " 1   route_id                    1 non-null      object        \n",
      " 2   origin_station              1 non-null      object        \n",
      " 3   destination_station         1 non-null      object        \n",
      " 4   scheduled_departure         1 non-null      datetime64[ns]\n",
      " 5   scheduled_arrival           1 non-null      datetime64[ns]\n",
      " 6   actual_departure_delay_min  1 non-null      int64         \n",
      " 7   weather_condition           1 non-null      object        \n",
      " 8   temperature_C               1 non-null      float64       \n",
      " 9   humidity_percent            1 non-null      int64         \n",
      " 10  wind_speed_kmh              1 non-null      int64         \n",
      " 11  precipitation_mm            1 non-null      float64       \n",
      " 12  event_type                  1 non-null      object        \n",
      " 13  event_attendance_est        1 non-null      int64         \n",
      " 14  traffic_congestion_index    1 non-null      int64         \n",
      " 15  holiday                     1 non-null      category      \n",
      " 16  peak_hour                   1 non-null      category      \n",
      " 17  weekday                     1 non-null      category      \n",
      " 18  season                      1 non-null      object        \n",
      " 19  datetime                    1 non-null      datetime64[ns]\n",
      " 20  scheduled_duration_min      1 non-null      int64         \n",
      "dtypes: category(3), datetime64[ns](3), float64(2), int64(6), object(7)\n",
      "memory usage: 623.0+ bytes\n"
     ]
    }
   ],
   "source": [
    "data_baru.info()"
   ]
  },
  {
   "cell_type": "code",
   "execution_count": null,
   "id": "1f04dad6",
   "metadata": {},
   "outputs": [
    {
     "name": "stdout",
     "output_type": "stream",
     "text": [
      "Hasil prediksi keterlambatan kedatangan: 11.19 menit\n"
     ]
    }
   ],
   "source": [
    "# Lakukan prediksi dengan model Random Forest\n",
    "prediksi_delay = model_rf.predict(data_baru)\n",
    "\n",
    "print(\"Hasil prediksi keterlambatan kedatangan:\", round(prediksi_delay[0], 2), \"menit\")\n"
   ]
  }
 ],
 "metadata": {
  "kernelspec": {
   "display_name": "h8_env",
   "language": "python",
   "name": "python3"
  },
  "language_info": {
   "codemirror_mode": {
    "name": "ipython",
    "version": 3
   },
   "file_extension": ".py",
   "mimetype": "text/x-python",
   "name": "python",
   "nbconvert_exporter": "python",
   "pygments_lexer": "ipython3",
   "version": "3.9.23"
  }
 },
 "nbformat": 4,
 "nbformat_minor": 5
}
